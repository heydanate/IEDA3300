{
 "cells": [
  {
   "cell_type": "markdown",
   "id": "a4449283",
   "metadata": {},
   "source": [
    "# Part I. Pandas Exercise "
   ]
  },
  {
   "cell_type": "markdown",
   "id": "af2ac57c",
   "metadata": {},
   "source": [
    "## Q1-Q5 are basd on the following dataset"
   ]
  },
  {
   "cell_type": "markdown",
   "id": "4f954c1a",
   "metadata": {},
   "source": [
    "   school class            name date_Of_Birth   age  height  weight  address\n",
    "S1   s001     V  Alberto Franco     15/05/2002   12    173      35  street1\n",
    "S2   s002     V    Gino Mcneill     17/05/2002   12    192      32  street2\n",
    "S3   s003    VI     Ryan Parkes     16/02/1999   13    186      33  street3\n",
    "S4   s001    VI    Eesha Hinton     25/09/1998   13    167      30  street1\n",
    "S5   s002     V    Gino Mcneill     11/05/2002   14    151      31  street2\n",
    "S6   s004    VI    David Parkes     15/09/1997   12    159      32  street4"
   ]
  },
  {
   "cell_type": "markdown",
   "id": "966d4d99",
   "metadata": {},
   "source": [
    "Q1. Write a Pandas program to split the above dataframe into groups based on school code and store the results as a list. (You should return a list where each element is a pandas dataframe). "
   ]
  },
  {
   "cell_type": "code",
   "execution_count": 1,
   "id": "1f99f61e",
   "metadata": {},
   "outputs": [
    {
     "data": {
      "text/plain": [
       "[('s001',\n",
       "     school class            name date_Of_Birth  age  height  weight  address\n",
       "  S1   s001     V  Alberto Franco    15/05/2002   12     173      35  street1\n",
       "  S4   s001    VI    Eesha Hinton    25/09/1998   13     167      30  street1),\n",
       " ('s002',\n",
       "     school class          name date_Of_Birth  age  height  weight  address\n",
       "  S2   s002     V  Gino Mcneill    17/05/2002   12     192      32  street2\n",
       "  S5   s002     V  Gino Mcneill    11/05/2002   14     151      31  street2),\n",
       " ('s003',\n",
       "     school class         name date_Of_Birth  age  height  weight  address\n",
       "  S3   s003    VI  Ryan Parkes    16/02/1999   13     186      33  street3),\n",
       " ('s004',\n",
       "     school class          name date_Of_Birth  age  height  weight  address\n",
       "  S6   s004    VI  David Parkes    15/09/1997   12     159      32  street4)]"
      ]
     },
     "execution_count": 1,
     "metadata": {},
     "output_type": "execute_result"
    }
   ],
   "source": [
    "import pandas as pd\n",
    "pd.set_option('display.max_rows', None)\n",
    "data = pd.DataFrame({'school':['s001','s002','s003','s001','s002','s004'],\n",
    "                    'class':['V','V','VI','VI','V','VI'],\n",
    "                    'name':['Alberto Franco','Gino Mcneill','Ryan Parkes','Eesha Hinton','Gino Mcneill','David Parkes'],\n",
    "                    'date_Of_Birth':['15/05/2002','17/05/2002','16/02/1999','25/09/1998','11/05/2002','15/09/1997'],\n",
    "                    'age':[12,12,13,13,14,12],\n",
    "                    'height':[173,192,186,167,151,159],\n",
    "                    'weight':[35,32,33,30,31,32],\n",
    "                    'address':['street1','street2','street3','street1','street2','street4']},\n",
    "                   index = ['S1','S2','S3','S4','S5','S6'])\n",
    "groups = data.groupby('school')\n",
    "groups_list = list(groups)\n",
    "groups_list"
   ]
  },
  {
   "cell_type": "markdown",
   "id": "c2750762",
   "metadata": {},
   "source": [
    "Q2. Write a Pandas program to calculate the number of students in each school."
   ]
  },
  {
   "cell_type": "code",
   "execution_count": null,
   "id": "337ebcfe",
   "metadata": {
    "collapsed": true
   },
   "outputs": [],
   "source": []
  },
  {
   "cell_type": "code",
   "execution_count": 2,
   "id": "c85fde1d",
   "metadata": {},
   "outputs": [
    {
     "data": {
      "text/plain": [
       "s001    2\n",
       "s002    2\n",
       "s003    1\n",
       "s004    1\n",
       "Name: school, dtype: int64"
      ]
     },
     "execution_count": 2,
     "metadata": {},
     "output_type": "execute_result"
    }
   ],
   "source": [
    "schoolcount = data['school'].value_counts()\n",
    "schoolcount"
   ]
  },
  {
   "cell_type": "markdown",
   "id": "24ff270b",
   "metadata": {},
   "source": [
    "Q3. Write a single-line Pandas program to calculate the average age, maximal height, and minimal weight in each class (classes with same number but in different schools are treated as different)."
   ]
  },
  {
   "cell_type": "code",
   "execution_count": 3,
   "id": "158fbf9a",
   "metadata": {},
   "outputs": [
    {
     "data": {
      "text/html": [
       "<div>\n",
       "<style scoped>\n",
       "    .dataframe tbody tr th:only-of-type {\n",
       "        vertical-align: middle;\n",
       "    }\n",
       "\n",
       "    .dataframe tbody tr th {\n",
       "        vertical-align: top;\n",
       "    }\n",
       "\n",
       "    .dataframe thead th {\n",
       "        text-align: right;\n",
       "    }\n",
       "</style>\n",
       "<table border=\"1\" class=\"dataframe\">\n",
       "  <thead>\n",
       "    <tr style=\"text-align: right;\">\n",
       "      <th></th>\n",
       "      <th></th>\n",
       "      <th>age</th>\n",
       "      <th>height</th>\n",
       "      <th>weight</th>\n",
       "    </tr>\n",
       "    <tr>\n",
       "      <th>school</th>\n",
       "      <th>class</th>\n",
       "      <th></th>\n",
       "      <th></th>\n",
       "      <th></th>\n",
       "    </tr>\n",
       "  </thead>\n",
       "  <tbody>\n",
       "    <tr>\n",
       "      <th rowspan=\"2\" valign=\"top\">s001</th>\n",
       "      <th>V</th>\n",
       "      <td>12.0</td>\n",
       "      <td>173</td>\n",
       "      <td>35</td>\n",
       "    </tr>\n",
       "    <tr>\n",
       "      <th>VI</th>\n",
       "      <td>13.0</td>\n",
       "      <td>167</td>\n",
       "      <td>30</td>\n",
       "    </tr>\n",
       "    <tr>\n",
       "      <th>s002</th>\n",
       "      <th>V</th>\n",
       "      <td>13.0</td>\n",
       "      <td>192</td>\n",
       "      <td>31</td>\n",
       "    </tr>\n",
       "    <tr>\n",
       "      <th>s003</th>\n",
       "      <th>VI</th>\n",
       "      <td>13.0</td>\n",
       "      <td>186</td>\n",
       "      <td>33</td>\n",
       "    </tr>\n",
       "    <tr>\n",
       "      <th>s004</th>\n",
       "      <th>VI</th>\n",
       "      <td>12.0</td>\n",
       "      <td>159</td>\n",
       "      <td>32</td>\n",
       "    </tr>\n",
       "  </tbody>\n",
       "</table>\n",
       "</div>"
      ],
      "text/plain": [
       "               age  height  weight\n",
       "school class                      \n",
       "s001   V      12.0     173      35\n",
       "       VI     13.0     167      30\n",
       "s002   V      13.0     192      31\n",
       "s003   VI     13.0     186      33\n",
       "s004   VI     12.0     159      32"
      ]
     },
     "execution_count": 3,
     "metadata": {},
     "output_type": "execute_result"
    }
   ],
   "source": [
    "stats = data.groupby(['school','class']).agg({'age': 'mean','height': 'max', 'weight':'min'})\n",
    "stats"
   ]
  },
  {
   "cell_type": "markdown",
   "id": "470aa32a",
   "metadata": {},
   "source": [
    "Q4. Define BMI as the weight/height^2 (kg/m^2). In above table, height is measured by cm and weight is measured by kg). Calculate the average BMI for all the students. (You are required to use apply function in this problem)"
   ]
  },
  {
   "cell_type": "code",
   "execution_count": 4,
   "id": "9ded2c12",
   "metadata": {},
   "outputs": [
    {
     "data": {
      "text/plain": [
       "9.438289613973563"
      ]
     },
     "execution_count": 4,
     "metadata": {},
     "output_type": "execute_result"
    }
   ],
   "source": [
    "def calcBMI(row):\n",
    "    height = row['height']/100\n",
    "    weight = row['weight']\n",
    "    BMI = weight / (height*2)\n",
    "    return BMI\n",
    "\n",
    "avgBMI = data.apply(calcBMI, axis=1).mean()\n",
    "avgBMI"
   ]
  },
  {
   "cell_type": "markdown",
   "id": "327ba1b8",
   "metadata": {},
   "source": [
    "Q5. Write a Pandas program to find the school that contains no student whose BMI is above the averaged BMI calculated in Q4."
   ]
  },
  {
   "cell_type": "code",
   "execution_count": 5,
   "id": "a04b0c99",
   "metadata": {},
   "outputs": [
    {
     "data": {
      "text/plain": [
       "['s003']"
      ]
     },
     "execution_count": 5,
     "metadata": {},
     "output_type": "execute_result"
    }
   ],
   "source": [
    "max_schoolBMI = data.groupby('school').apply(calcBMI).groupby('school').max()\n",
    "below_avg = max_schoolBMI[max_schoolBMI <= avgBMI].index.tolist()\n",
    "below_avg"
   ]
  },
  {
   "cell_type": "markdown",
   "id": "8657ccde",
   "metadata": {},
   "source": [
    "## Q6-Q9 are based on the following dataset"
   ]
  },
  {
   "cell_type": "markdown",
   "id": "186db7ca",
   "metadata": {},
   "source": [
    "    ord_no  purch_amt    ord_date  customer_id  salesman_id\n",
    "0    70001     150.50  2012-10-05         3005         5002\n",
    "1    70009     270.65  2012-09-10         3001         5005\n",
    "2    70002      65.26  2012-10-05         3002         5001\n",
    "3    70004     110.50  2012-08-17         3009         5003\n",
    "4    70007     948.50  2012-09-10         3005         5002\n",
    "5    70005    2400.60  2012-07-27         3007         5001\n",
    "6    70008    5760.00  2012-09-10         3002         5001\n",
    "7    70010    1983.43  2012-10-10         3004         5006\n",
    "8    70003    2480.40  2012-10-10         3009         5003\n",
    "9    70012     250.45  2012-06-27         3008         5002\n",
    "10   70011      75.29  2012-08-17         3003         5007\n",
    "11   70013    3045.60  2012-04-25         3002         5001"
   ]
  },
  {
   "cell_type": "markdown",
   "id": "cd85ded6",
   "metadata": {},
   "source": [
    "Q6. Create a Pandas dataframe to store above dataset. The ord_date should be used as row index and stored as timeseries (not stored as character string!)"
   ]
  },
  {
   "cell_type": "code",
   "execution_count": 6,
   "id": "60c67aa0",
   "metadata": {},
   "outputs": [
    {
     "data": {
      "text/html": [
       "<div>\n",
       "<style scoped>\n",
       "    .dataframe tbody tr th:only-of-type {\n",
       "        vertical-align: middle;\n",
       "    }\n",
       "\n",
       "    .dataframe tbody tr th {\n",
       "        vertical-align: top;\n",
       "    }\n",
       "\n",
       "    .dataframe thead th {\n",
       "        text-align: right;\n",
       "    }\n",
       "</style>\n",
       "<table border=\"1\" class=\"dataframe\">\n",
       "  <thead>\n",
       "    <tr style=\"text-align: right;\">\n",
       "      <th></th>\n",
       "      <th>ord_no</th>\n",
       "      <th>purch_amt</th>\n",
       "      <th>customer_id</th>\n",
       "      <th>salesman_id</th>\n",
       "    </tr>\n",
       "    <tr>\n",
       "      <th>ord_date</th>\n",
       "      <th></th>\n",
       "      <th></th>\n",
       "      <th></th>\n",
       "      <th></th>\n",
       "    </tr>\n",
       "  </thead>\n",
       "  <tbody>\n",
       "    <tr>\n",
       "      <th>2012-10-05</th>\n",
       "      <td>70001</td>\n",
       "      <td>150.50</td>\n",
       "      <td>3005</td>\n",
       "      <td>5002</td>\n",
       "    </tr>\n",
       "    <tr>\n",
       "      <th>2012-09-10</th>\n",
       "      <td>70009</td>\n",
       "      <td>270.65</td>\n",
       "      <td>3001</td>\n",
       "      <td>5005</td>\n",
       "    </tr>\n",
       "    <tr>\n",
       "      <th>2012-10-05</th>\n",
       "      <td>70002</td>\n",
       "      <td>65.26</td>\n",
       "      <td>3002</td>\n",
       "      <td>5001</td>\n",
       "    </tr>\n",
       "    <tr>\n",
       "      <th>2012-08-17</th>\n",
       "      <td>70004</td>\n",
       "      <td>110.50</td>\n",
       "      <td>3009</td>\n",
       "      <td>5003</td>\n",
       "    </tr>\n",
       "    <tr>\n",
       "      <th>2012-09-10</th>\n",
       "      <td>70007</td>\n",
       "      <td>948.50</td>\n",
       "      <td>3005</td>\n",
       "      <td>5002</td>\n",
       "    </tr>\n",
       "    <tr>\n",
       "      <th>2012-07-27</th>\n",
       "      <td>70005</td>\n",
       "      <td>2400.60</td>\n",
       "      <td>3007</td>\n",
       "      <td>5001</td>\n",
       "    </tr>\n",
       "    <tr>\n",
       "      <th>2012-09-10</th>\n",
       "      <td>70008</td>\n",
       "      <td>5760.00</td>\n",
       "      <td>3002</td>\n",
       "      <td>5001</td>\n",
       "    </tr>\n",
       "    <tr>\n",
       "      <th>2012-10-10</th>\n",
       "      <td>70010</td>\n",
       "      <td>1983.43</td>\n",
       "      <td>3004</td>\n",
       "      <td>5006</td>\n",
       "    </tr>\n",
       "    <tr>\n",
       "      <th>2012-10-10</th>\n",
       "      <td>70003</td>\n",
       "      <td>2480.40</td>\n",
       "      <td>3009</td>\n",
       "      <td>5003</td>\n",
       "    </tr>\n",
       "    <tr>\n",
       "      <th>2012-06-27</th>\n",
       "      <td>70012</td>\n",
       "      <td>250.45</td>\n",
       "      <td>3008</td>\n",
       "      <td>5002</td>\n",
       "    </tr>\n",
       "    <tr>\n",
       "      <th>2012-08-17</th>\n",
       "      <td>70011</td>\n",
       "      <td>75.29</td>\n",
       "      <td>3003</td>\n",
       "      <td>5007</td>\n",
       "    </tr>\n",
       "    <tr>\n",
       "      <th>2012-04-25</th>\n",
       "      <td>70013</td>\n",
       "      <td>3045.60</td>\n",
       "      <td>3002</td>\n",
       "      <td>5001</td>\n",
       "    </tr>\n",
       "  </tbody>\n",
       "</table>\n",
       "</div>"
      ],
      "text/plain": [
       "            ord_no  purch_amt  customer_id  salesman_id\n",
       "ord_date                                               \n",
       "2012-10-05   70001     150.50         3005         5002\n",
       "2012-09-10   70009     270.65         3001         5005\n",
       "2012-10-05   70002      65.26         3002         5001\n",
       "2012-08-17   70004     110.50         3009         5003\n",
       "2012-09-10   70007     948.50         3005         5002\n",
       "2012-07-27   70005    2400.60         3007         5001\n",
       "2012-09-10   70008    5760.00         3002         5001\n",
       "2012-10-10   70010    1983.43         3004         5006\n",
       "2012-10-10   70003    2480.40         3009         5003\n",
       "2012-06-27   70012     250.45         3008         5002\n",
       "2012-08-17   70011      75.29         3003         5007\n",
       "2012-04-25   70013    3045.60         3002         5001"
      ]
     },
     "execution_count": 6,
     "metadata": {},
     "output_type": "execute_result"
    }
   ],
   "source": [
    "inventory = pd.DataFrame({'ord_no':[70001,70009,70002,70004,70007,70005,70008,70010,70003,70012,70011,70013],\n",
    "                         'purch_amt':[150.50,270.65,65.26,110.50,948.50,2400.60,5760.00,1983.43,2480.40,250.45,75.29,3045.60],\n",
    "                         'ord_date':['2012-10-05','2012-09-10','2012-10-05','2012-08-17','2012-09-10','2012-07-27','2012-09-10','2012-10-10','2012-10-10','2012-06-27','2012-08-17','2012-04-25'],\n",
    "                         'customer_id':[3005,3001,3002,3009,3005,3007,3002,3004,3009,3008,3003,3002],\n",
    "                         'salesman_id':[5002,5005,5001,5003,5002,5001,5001,5006,5003,5002,5007,5001]})\n",
    "\n",
    "inventory['ord_date']=pd.to_datetime(inventory['ord_date'])\n",
    "inventory.set_index('ord_date', inplace=True)\n",
    "inventory"
   ]
  },
  {
   "cell_type": "markdown",
   "id": "70e166ad",
   "metadata": {},
   "source": [
    "Q7. Write a Pandas program to calculate the monthly total purchase amount (purch_amt). You only need to consider the months that exist in above dataset."
   ]
  },
  {
   "cell_type": "code",
   "execution_count": 7,
   "id": "2ca366e9",
   "metadata": {},
   "outputs": [
    {
     "data": {
      "text/plain": [
       "ord_date\n",
       "2012-04-30    3045.60\n",
       "2012-05-31       0.00\n",
       "2012-06-30     250.45\n",
       "2012-07-31    2400.60\n",
       "2012-08-31     185.79\n",
       "2012-09-30    6979.15\n",
       "2012-10-31    4679.59\n",
       "Freq: M, Name: purch_amt, dtype: float64"
      ]
     },
     "execution_count": 7,
     "metadata": {},
     "output_type": "execute_result"
    }
   ],
   "source": [
    "monthlytotal = inventory.resample('M')['purch_amt'].sum()\n",
    "monthlytotal"
   ]
  },
  {
   "cell_type": "markdown",
   "id": "280987b0",
   "metadata": {},
   "source": [
    "Q8. Use pivot function the re-organize the dataset such that each row represent a salesman, each column represent a customer, and each element in the table represents the purchase amount."
   ]
  },
  {
   "cell_type": "code",
   "execution_count": 8,
   "id": "d773d8e5",
   "metadata": {},
   "outputs": [
    {
     "data": {
      "text/html": [
       "<div>\n",
       "<style scoped>\n",
       "    .dataframe tbody tr th:only-of-type {\n",
       "        vertical-align: middle;\n",
       "    }\n",
       "\n",
       "    .dataframe tbody tr th {\n",
       "        vertical-align: top;\n",
       "    }\n",
       "\n",
       "    .dataframe thead th {\n",
       "        text-align: right;\n",
       "    }\n",
       "</style>\n",
       "<table border=\"1\" class=\"dataframe\">\n",
       "  <thead>\n",
       "    <tr style=\"text-align: right;\">\n",
       "      <th>customer_id</th>\n",
       "      <th>3001</th>\n",
       "      <th>3002</th>\n",
       "      <th>3003</th>\n",
       "      <th>3004</th>\n",
       "      <th>3005</th>\n",
       "      <th>3007</th>\n",
       "      <th>3008</th>\n",
       "      <th>3009</th>\n",
       "    </tr>\n",
       "    <tr>\n",
       "      <th>salesman_id</th>\n",
       "      <th></th>\n",
       "      <th></th>\n",
       "      <th></th>\n",
       "      <th></th>\n",
       "      <th></th>\n",
       "      <th></th>\n",
       "      <th></th>\n",
       "      <th></th>\n",
       "    </tr>\n",
       "  </thead>\n",
       "  <tbody>\n",
       "    <tr>\n",
       "      <th>5001</th>\n",
       "      <td>0.00</td>\n",
       "      <td>8870.86</td>\n",
       "      <td>0.00</td>\n",
       "      <td>0.00</td>\n",
       "      <td>0</td>\n",
       "      <td>2400.6</td>\n",
       "      <td>0.00</td>\n",
       "      <td>0.0</td>\n",
       "    </tr>\n",
       "    <tr>\n",
       "      <th>5002</th>\n",
       "      <td>0.00</td>\n",
       "      <td>0.00</td>\n",
       "      <td>0.00</td>\n",
       "      <td>0.00</td>\n",
       "      <td>1099</td>\n",
       "      <td>0.0</td>\n",
       "      <td>250.45</td>\n",
       "      <td>0.0</td>\n",
       "    </tr>\n",
       "    <tr>\n",
       "      <th>5003</th>\n",
       "      <td>0.00</td>\n",
       "      <td>0.00</td>\n",
       "      <td>0.00</td>\n",
       "      <td>0.00</td>\n",
       "      <td>0</td>\n",
       "      <td>0.0</td>\n",
       "      <td>0.00</td>\n",
       "      <td>2590.9</td>\n",
       "    </tr>\n",
       "    <tr>\n",
       "      <th>5005</th>\n",
       "      <td>270.65</td>\n",
       "      <td>0.00</td>\n",
       "      <td>0.00</td>\n",
       "      <td>0.00</td>\n",
       "      <td>0</td>\n",
       "      <td>0.0</td>\n",
       "      <td>0.00</td>\n",
       "      <td>0.0</td>\n",
       "    </tr>\n",
       "    <tr>\n",
       "      <th>5006</th>\n",
       "      <td>0.00</td>\n",
       "      <td>0.00</td>\n",
       "      <td>0.00</td>\n",
       "      <td>1983.43</td>\n",
       "      <td>0</td>\n",
       "      <td>0.0</td>\n",
       "      <td>0.00</td>\n",
       "      <td>0.0</td>\n",
       "    </tr>\n",
       "    <tr>\n",
       "      <th>5007</th>\n",
       "      <td>0.00</td>\n",
       "      <td>0.00</td>\n",
       "      <td>75.29</td>\n",
       "      <td>0.00</td>\n",
       "      <td>0</td>\n",
       "      <td>0.0</td>\n",
       "      <td>0.00</td>\n",
       "      <td>0.0</td>\n",
       "    </tr>\n",
       "  </tbody>\n",
       "</table>\n",
       "</div>"
      ],
      "text/plain": [
       "customer_id    3001     3002   3003     3004  3005    3007    3008    3009\n",
       "salesman_id                                                               \n",
       "5001           0.00  8870.86   0.00     0.00     0  2400.6    0.00     0.0\n",
       "5002           0.00     0.00   0.00     0.00  1099     0.0  250.45     0.0\n",
       "5003           0.00     0.00   0.00     0.00     0     0.0    0.00  2590.9\n",
       "5005         270.65     0.00   0.00     0.00     0     0.0    0.00     0.0\n",
       "5006           0.00     0.00   0.00  1983.43     0     0.0    0.00     0.0\n",
       "5007           0.00     0.00  75.29     0.00     0     0.0    0.00     0.0"
      ]
     },
     "execution_count": 8,
     "metadata": {},
     "output_type": "execute_result"
    }
   ],
   "source": [
    "pivot = pd.pivot_table(inventory, values='purch_amt', index='salesman_id', columns='customer_id', aggfunc='sum', fill_value=0)\n",
    "pivot"
   ]
  },
  {
   "cell_type": "markdown",
   "id": "c3b4ca3f",
   "metadata": {},
   "source": [
    "Q9. For each row, let variable \"previous_month_sales\" be the total purch_amt of the corresponding salesman in previous month. For example, for the first row, salesman_id=5002 and order date is in Oct. Then you need to find the total sales of salesman_id=5002 in Sep. If there is no data, set previous_month_sales as 0. Write a Pandas program to calculate the value of variable previous_month_sales for each row. "
   ]
  },
  {
   "cell_type": "code",
   "execution_count": 9,
   "id": "bddedfa2",
   "metadata": {},
   "outputs": [
    {
     "data": {
      "text/html": [
       "<div>\n",
       "<style scoped>\n",
       "    .dataframe tbody tr th:only-of-type {\n",
       "        vertical-align: middle;\n",
       "    }\n",
       "\n",
       "    .dataframe tbody tr th {\n",
       "        vertical-align: top;\n",
       "    }\n",
       "\n",
       "    .dataframe thead th {\n",
       "        text-align: right;\n",
       "    }\n",
       "</style>\n",
       "<table border=\"1\" class=\"dataframe\">\n",
       "  <thead>\n",
       "    <tr style=\"text-align: right;\">\n",
       "      <th></th>\n",
       "      <th>ord_no</th>\n",
       "      <th>purch_amt</th>\n",
       "      <th>ord_date</th>\n",
       "      <th>customer_id</th>\n",
       "      <th>salesman_id</th>\n",
       "      <th>previous_month_sales</th>\n",
       "    </tr>\n",
       "  </thead>\n",
       "  <tbody>\n",
       "    <tr>\n",
       "      <th>11</th>\n",
       "      <td>70013</td>\n",
       "      <td>3045.60</td>\n",
       "      <td>2012-04-25</td>\n",
       "      <td>3002</td>\n",
       "      <td>5001</td>\n",
       "      <td>0.00</td>\n",
       "    </tr>\n",
       "    <tr>\n",
       "      <th>5</th>\n",
       "      <td>70005</td>\n",
       "      <td>2400.60</td>\n",
       "      <td>2012-07-27</td>\n",
       "      <td>3007</td>\n",
       "      <td>5001</td>\n",
       "      <td>3045.60</td>\n",
       "    </tr>\n",
       "    <tr>\n",
       "      <th>6</th>\n",
       "      <td>70008</td>\n",
       "      <td>5760.00</td>\n",
       "      <td>2012-09-10</td>\n",
       "      <td>3002</td>\n",
       "      <td>5001</td>\n",
       "      <td>2400.60</td>\n",
       "    </tr>\n",
       "    <tr>\n",
       "      <th>2</th>\n",
       "      <td>70002</td>\n",
       "      <td>65.26</td>\n",
       "      <td>2012-10-05</td>\n",
       "      <td>3002</td>\n",
       "      <td>5001</td>\n",
       "      <td>5760.00</td>\n",
       "    </tr>\n",
       "    <tr>\n",
       "      <th>9</th>\n",
       "      <td>70012</td>\n",
       "      <td>250.45</td>\n",
       "      <td>2012-06-27</td>\n",
       "      <td>3008</td>\n",
       "      <td>5002</td>\n",
       "      <td>0.00</td>\n",
       "    </tr>\n",
       "    <tr>\n",
       "      <th>4</th>\n",
       "      <td>70007</td>\n",
       "      <td>948.50</td>\n",
       "      <td>2012-09-10</td>\n",
       "      <td>3005</td>\n",
       "      <td>5002</td>\n",
       "      <td>250.45</td>\n",
       "    </tr>\n",
       "    <tr>\n",
       "      <th>0</th>\n",
       "      <td>70001</td>\n",
       "      <td>150.50</td>\n",
       "      <td>2012-10-05</td>\n",
       "      <td>3005</td>\n",
       "      <td>5002</td>\n",
       "      <td>948.50</td>\n",
       "    </tr>\n",
       "    <tr>\n",
       "      <th>3</th>\n",
       "      <td>70004</td>\n",
       "      <td>110.50</td>\n",
       "      <td>2012-08-17</td>\n",
       "      <td>3009</td>\n",
       "      <td>5003</td>\n",
       "      <td>0.00</td>\n",
       "    </tr>\n",
       "    <tr>\n",
       "      <th>8</th>\n",
       "      <td>70003</td>\n",
       "      <td>2480.40</td>\n",
       "      <td>2012-10-10</td>\n",
       "      <td>3009</td>\n",
       "      <td>5003</td>\n",
       "      <td>110.50</td>\n",
       "    </tr>\n",
       "    <tr>\n",
       "      <th>1</th>\n",
       "      <td>70009</td>\n",
       "      <td>270.65</td>\n",
       "      <td>2012-09-10</td>\n",
       "      <td>3001</td>\n",
       "      <td>5005</td>\n",
       "      <td>0.00</td>\n",
       "    </tr>\n",
       "    <tr>\n",
       "      <th>7</th>\n",
       "      <td>70010</td>\n",
       "      <td>1983.43</td>\n",
       "      <td>2012-10-10</td>\n",
       "      <td>3004</td>\n",
       "      <td>5006</td>\n",
       "      <td>0.00</td>\n",
       "    </tr>\n",
       "    <tr>\n",
       "      <th>10</th>\n",
       "      <td>70011</td>\n",
       "      <td>75.29</td>\n",
       "      <td>2012-08-17</td>\n",
       "      <td>3003</td>\n",
       "      <td>5007</td>\n",
       "      <td>0.00</td>\n",
       "    </tr>\n",
       "  </tbody>\n",
       "</table>\n",
       "</div>"
      ],
      "text/plain": [
       "    ord_no  purch_amt   ord_date  customer_id  salesman_id  \\\n",
       "11   70013    3045.60 2012-04-25         3002         5001   \n",
       "5    70005    2400.60 2012-07-27         3007         5001   \n",
       "6    70008    5760.00 2012-09-10         3002         5001   \n",
       "2    70002      65.26 2012-10-05         3002         5001   \n",
       "9    70012     250.45 2012-06-27         3008         5002   \n",
       "4    70007     948.50 2012-09-10         3005         5002   \n",
       "0    70001     150.50 2012-10-05         3005         5002   \n",
       "3    70004     110.50 2012-08-17         3009         5003   \n",
       "8    70003    2480.40 2012-10-10         3009         5003   \n",
       "1    70009     270.65 2012-09-10         3001         5005   \n",
       "7    70010    1983.43 2012-10-10         3004         5006   \n",
       "10   70011      75.29 2012-08-17         3003         5007   \n",
       "\n",
       "    previous_month_sales  \n",
       "11                  0.00  \n",
       "5                3045.60  \n",
       "6                2400.60  \n",
       "2                5760.00  \n",
       "9                   0.00  \n",
       "4                 250.45  \n",
       "0                 948.50  \n",
       "3                   0.00  \n",
       "8                 110.50  \n",
       "1                   0.00  \n",
       "7                   0.00  \n",
       "10                  0.00  "
      ]
     },
     "execution_count": 9,
     "metadata": {},
     "output_type": "execute_result"
    }
   ],
   "source": [
    "inventory = pd.DataFrame({'ord_no':[70001,70009,70002,70004,70007,70005,70008,70010,70003,70012,70011,70013],\n",
    "                         'purch_amt':[150.50,270.65,65.26,110.50,948.50,2400.60,5760.00,1983.43,2480.40,250.45,75.29,3045.60],\n",
    "                         'ord_date':['2012-10-05','2012-09-10','2012-10-05','2012-08-17','2012-09-10','2012-07-27','2012-09-10','2012-10-10','2012-10-10','2012-06-27','2012-08-17','2012-04-25'],\n",
    "                         'customer_id':[3005,3001,3002,3009,3005,3007,3002,3004,3009,3008,3003,3002],\n",
    "                         'salesman_id':[5002,5005,5001,5003,5002,5001,5001,5006,5003,5002,5007,5001]})\n",
    "\n",
    "inventory['ord_date'] = pd.to_datetime(inventory['ord_date'])\n",
    "inventory = inventory.sort_values(['salesman_id', 'ord_date'])\n",
    "\n",
    "inventory['previous_month_sales'] = inventory.groupby('salesman_id')['purch_amt'].shift()\n",
    "inventory['previous_month_sales'] = inventory['previous_month_sales'].fillna(0)\n",
    "\n",
    "inventory"
   ]
  },
  {
   "cell_type": "markdown",
   "id": "ae77c009",
   "metadata": {},
   "source": [
    "## Q10-Q12 are basd on the following two datasets"
   ]
  },
  {
   "cell_type": "markdown",
   "id": "90a9ab05",
   "metadata": {},
   "source": [
    "data1 = {'EmployeeID': [1, 2, 3, 4, 5, 6, 7, 8, 9, 10, 11, 12],\n",
    "         'Name': ['Alice', 'Bob', 'Charlie', 'David', 'Eva', 'Frank', 'Grace', 'Hannah', 'Ian', 'Jack', 'Kathy', 'Leo'],\n",
    "         'Age': [25, 30, 35, 40, 45, 50, 55, 28, 48, 60, 32, 42],\n",
    "         'City': ['New York', 'San Francisco', 'Los Angeles', 'Chicago', 'Seattle', 'Boston', 'Houston', 'San Francisco', 'Los Angeles', 'New York', 'New York', 'Chicago'],\n",
    "         'DepartmentID': [1, 2, 3, 1, 2, 3, 1, 2, 3, 1, 4, 4]}\n",
    "\n",
    "data2 = {'EmployeeID': [1, 3, 5, 6, 7, 8, 9, 11, 12, 13],\n",
    "         'Salary': [50000, 70000, 90000, 95000, 105000, 115000, 125000, 140000, 145000, 110000],\n",
    "         'Years of Experience': [3, 7, 12, 14, 16, 18, 20, 22, 9, 11],\n",
    "         'DepartmentID': [1, 3, 2, 3, 1, 2, 3, 1, 4, 4],\n",
    "         'Performance Score': [3, 4, 3, 4, 5, 5, 4, 5, 4, 4]}"
   ]
  },
  {
   "cell_type": "markdown",
   "id": "0c64531f",
   "metadata": {},
   "source": [
    "Q10. Merge two data set based on keys: 'EmployeeID' and 'Department'. Only keep the records that exist in both datasets. "
   ]
  },
  {
   "cell_type": "code",
   "execution_count": 10,
   "id": "2e5739b6",
   "metadata": {},
   "outputs": [
    {
     "data": {
      "text/html": [
       "<div>\n",
       "<style scoped>\n",
       "    .dataframe tbody tr th:only-of-type {\n",
       "        vertical-align: middle;\n",
       "    }\n",
       "\n",
       "    .dataframe tbody tr th {\n",
       "        vertical-align: top;\n",
       "    }\n",
       "\n",
       "    .dataframe thead th {\n",
       "        text-align: right;\n",
       "    }\n",
       "</style>\n",
       "<table border=\"1\" class=\"dataframe\">\n",
       "  <thead>\n",
       "    <tr style=\"text-align: right;\">\n",
       "      <th></th>\n",
       "      <th>EmployeeID</th>\n",
       "      <th>Name</th>\n",
       "      <th>Age</th>\n",
       "      <th>City</th>\n",
       "      <th>DepartmentID</th>\n",
       "      <th>Salary</th>\n",
       "      <th>Years of Experience</th>\n",
       "      <th>Performance Score</th>\n",
       "    </tr>\n",
       "  </thead>\n",
       "  <tbody>\n",
       "    <tr>\n",
       "      <th>0</th>\n",
       "      <td>1</td>\n",
       "      <td>Alice</td>\n",
       "      <td>25</td>\n",
       "      <td>New York</td>\n",
       "      <td>1</td>\n",
       "      <td>50000</td>\n",
       "      <td>3</td>\n",
       "      <td>3</td>\n",
       "    </tr>\n",
       "    <tr>\n",
       "      <th>1</th>\n",
       "      <td>3</td>\n",
       "      <td>Charlie</td>\n",
       "      <td>35</td>\n",
       "      <td>Los Angeles</td>\n",
       "      <td>3</td>\n",
       "      <td>70000</td>\n",
       "      <td>7</td>\n",
       "      <td>4</td>\n",
       "    </tr>\n",
       "    <tr>\n",
       "      <th>2</th>\n",
       "      <td>5</td>\n",
       "      <td>Eva</td>\n",
       "      <td>45</td>\n",
       "      <td>Seattle</td>\n",
       "      <td>2</td>\n",
       "      <td>90000</td>\n",
       "      <td>12</td>\n",
       "      <td>3</td>\n",
       "    </tr>\n",
       "    <tr>\n",
       "      <th>3</th>\n",
       "      <td>6</td>\n",
       "      <td>Frank</td>\n",
       "      <td>50</td>\n",
       "      <td>Boston</td>\n",
       "      <td>3</td>\n",
       "      <td>95000</td>\n",
       "      <td>14</td>\n",
       "      <td>4</td>\n",
       "    </tr>\n",
       "    <tr>\n",
       "      <th>4</th>\n",
       "      <td>7</td>\n",
       "      <td>Grace</td>\n",
       "      <td>55</td>\n",
       "      <td>Houston</td>\n",
       "      <td>1</td>\n",
       "      <td>105000</td>\n",
       "      <td>16</td>\n",
       "      <td>5</td>\n",
       "    </tr>\n",
       "    <tr>\n",
       "      <th>5</th>\n",
       "      <td>8</td>\n",
       "      <td>Hannah</td>\n",
       "      <td>28</td>\n",
       "      <td>San Francisco</td>\n",
       "      <td>2</td>\n",
       "      <td>115000</td>\n",
       "      <td>18</td>\n",
       "      <td>5</td>\n",
       "    </tr>\n",
       "    <tr>\n",
       "      <th>6</th>\n",
       "      <td>9</td>\n",
       "      <td>Ian</td>\n",
       "      <td>48</td>\n",
       "      <td>Los Angeles</td>\n",
       "      <td>3</td>\n",
       "      <td>125000</td>\n",
       "      <td>20</td>\n",
       "      <td>4</td>\n",
       "    </tr>\n",
       "    <tr>\n",
       "      <th>7</th>\n",
       "      <td>12</td>\n",
       "      <td>Leo</td>\n",
       "      <td>42</td>\n",
       "      <td>Chicago</td>\n",
       "      <td>4</td>\n",
       "      <td>145000</td>\n",
       "      <td>9</td>\n",
       "      <td>4</td>\n",
       "    </tr>\n",
       "  </tbody>\n",
       "</table>\n",
       "</div>"
      ],
      "text/plain": [
       "   EmployeeID     Name  Age           City  DepartmentID  Salary  \\\n",
       "0           1    Alice   25       New York             1   50000   \n",
       "1           3  Charlie   35    Los Angeles             3   70000   \n",
       "2           5      Eva   45        Seattle             2   90000   \n",
       "3           6    Frank   50         Boston             3   95000   \n",
       "4           7    Grace   55        Houston             1  105000   \n",
       "5           8   Hannah   28  San Francisco             2  115000   \n",
       "6           9      Ian   48    Los Angeles             3  125000   \n",
       "7          12      Leo   42        Chicago             4  145000   \n",
       "\n",
       "   Years of Experience  Performance Score  \n",
       "0                    3                  3  \n",
       "1                    7                  4  \n",
       "2                   12                  3  \n",
       "3                   14                  4  \n",
       "4                   16                  5  \n",
       "5                   18                  5  \n",
       "6                   20                  4  \n",
       "7                    9                  4  "
      ]
     },
     "execution_count": 10,
     "metadata": {},
     "output_type": "execute_result"
    }
   ],
   "source": [
    "data1 = pd.DataFrame({'EmployeeID': [1, 2, 3, 4, 5, 6, 7, 8, 9, 10, 11, 12],\n",
    "                      'Name': ['Alice', 'Bob', 'Charlie', 'David', 'Eva', 'Frank', 'Grace', 'Hannah', 'Ian', 'Jack', 'Kathy', 'Leo'],\n",
    "                      'Age': [25, 30, 35, 40, 45, 50, 55, 28, 48, 60, 32, 42],\n",
    "                      'City': ['New York', 'San Francisco', 'Los Angeles', 'Chicago', 'Seattle', 'Boston', 'Houston', 'San Francisco', 'Los Angeles', 'New York', 'New York', 'Chicago'],\n",
    "                      'DepartmentID': [1, 2, 3, 1, 2, 3, 1, 2, 3, 1, 4, 4]})\n",
    "\n",
    "data2 = pd.DataFrame({'EmployeeID': [1, 3, 5, 6, 7, 8, 9, 11, 12, 13],\n",
    "                      'Salary': [50000, 70000, 90000, 95000, 105000, 115000, 125000, 140000, 145000, 110000],\n",
    "                      'Years of Experience': [3, 7, 12, 14, 16, 18, 20, 22, 9, 11],\n",
    "                      'DepartmentID': [1, 3, 2, 3, 1, 2, 3, 1, 4, 4],\n",
    "                      'Performance Score': [3, 4, 3, 4, 5, 5, 4, 5, 4, 4]})\n",
    "\n",
    "merged = pd.merge(data1, data2, on = ['EmployeeID', 'DepartmentID'], how = 'inner')\n",
    "merged"
   ]
  },
  {
   "cell_type": "markdown",
   "id": "272bb060",
   "metadata": {},
   "source": [
    "Q11. Only consider employees with a performance score of 4 or higher. Calculate the average age and median years of experience by department"
   ]
  },
  {
   "cell_type": "code",
   "execution_count": 11,
   "id": "119f7c35",
   "metadata": {},
   "outputs": [
    {
     "data": {
      "text/html": [
       "<div>\n",
       "<style scoped>\n",
       "    .dataframe tbody tr th:only-of-type {\n",
       "        vertical-align: middle;\n",
       "    }\n",
       "\n",
       "    .dataframe tbody tr th {\n",
       "        vertical-align: top;\n",
       "    }\n",
       "\n",
       "    .dataframe thead th {\n",
       "        text-align: right;\n",
       "    }\n",
       "</style>\n",
       "<table border=\"1\" class=\"dataframe\">\n",
       "  <thead>\n",
       "    <tr style=\"text-align: right;\">\n",
       "      <th></th>\n",
       "      <th>Age</th>\n",
       "      <th>Years of Experience</th>\n",
       "    </tr>\n",
       "    <tr>\n",
       "      <th>DepartmentID</th>\n",
       "      <th></th>\n",
       "      <th></th>\n",
       "    </tr>\n",
       "  </thead>\n",
       "  <tbody>\n",
       "    <tr>\n",
       "      <th>1</th>\n",
       "      <td>55.000000</td>\n",
       "      <td>16.0</td>\n",
       "    </tr>\n",
       "    <tr>\n",
       "      <th>2</th>\n",
       "      <td>28.000000</td>\n",
       "      <td>18.0</td>\n",
       "    </tr>\n",
       "    <tr>\n",
       "      <th>3</th>\n",
       "      <td>44.333333</td>\n",
       "      <td>14.0</td>\n",
       "    </tr>\n",
       "    <tr>\n",
       "      <th>4</th>\n",
       "      <td>42.000000</td>\n",
       "      <td>9.0</td>\n",
       "    </tr>\n",
       "  </tbody>\n",
       "</table>\n",
       "</div>"
      ],
      "text/plain": [
       "                    Age  Years of Experience\n",
       "DepartmentID                                \n",
       "1             55.000000                 16.0\n",
       "2             28.000000                 18.0\n",
       "3             44.333333                 14.0\n",
       "4             42.000000                  9.0"
      ]
     },
     "execution_count": 11,
     "metadata": {},
     "output_type": "execute_result"
    }
   ],
   "source": [
    "performance = merged[merged['Performance Score'] >= 4]\n",
    "high = performance.groupby(['DepartmentID']).agg({'Age': 'mean', 'Years of Experience': 'median'})\n",
    "high"
   ]
  },
  {
   "cell_type": "markdown",
   "id": "fd72661c",
   "metadata": {},
   "source": [
    "Q12. For each department, find the employees with salaries higher than the department average."
   ]
  },
  {
   "cell_type": "code",
   "execution_count": 12,
   "id": "3f2a0f77",
   "metadata": {},
   "outputs": [
    {
     "data": {
      "text/html": [
       "<div>\n",
       "<style scoped>\n",
       "    .dataframe tbody tr th:only-of-type {\n",
       "        vertical-align: middle;\n",
       "    }\n",
       "\n",
       "    .dataframe tbody tr th {\n",
       "        vertical-align: top;\n",
       "    }\n",
       "\n",
       "    .dataframe thead th {\n",
       "        text-align: right;\n",
       "    }\n",
       "</style>\n",
       "<table border=\"1\" class=\"dataframe\">\n",
       "  <thead>\n",
       "    <tr style=\"text-align: right;\">\n",
       "      <th></th>\n",
       "      <th>DepartmentID</th>\n",
       "      <th>Name</th>\n",
       "      <th>Salary</th>\n",
       "    </tr>\n",
       "  </thead>\n",
       "  <tbody>\n",
       "    <tr>\n",
       "      <th>4</th>\n",
       "      <td>1</td>\n",
       "      <td>Grace</td>\n",
       "      <td>105000</td>\n",
       "    </tr>\n",
       "    <tr>\n",
       "      <th>5</th>\n",
       "      <td>2</td>\n",
       "      <td>Hannah</td>\n",
       "      <td>115000</td>\n",
       "    </tr>\n",
       "    <tr>\n",
       "      <th>6</th>\n",
       "      <td>3</td>\n",
       "      <td>Ian</td>\n",
       "      <td>125000</td>\n",
       "    </tr>\n",
       "  </tbody>\n",
       "</table>\n",
       "</div>"
      ],
      "text/plain": [
       "   DepartmentID    Name  Salary\n",
       "4             1   Grace  105000\n",
       "5             2  Hannah  115000\n",
       "6             3     Ian  125000"
      ]
     },
     "execution_count": 12,
     "metadata": {},
     "output_type": "execute_result"
    }
   ],
   "source": [
    "data1 = pd.DataFrame({'EmployeeID': [1, 2, 3, 4, 5, 6, 7, 8, 9, 10, 11, 12],\n",
    "                      'Name': ['Alice', 'Bob', 'Charlie', 'David', 'Eva', 'Frank', 'Grace', 'Hannah', 'Ian', 'Jack', 'Kathy', 'Leo'],\n",
    "                      'Age': [25, 30, 35, 40, 45, 50, 55, 28, 48, 60, 32, 42],\n",
    "                      'City': ['New York', 'San Francisco', 'Los Angeles', 'Chicago', 'Seattle', 'Boston', 'Houston', 'San Francisco', 'Los Angeles', 'New York', 'New York', 'Chicago'],\n",
    "                      'DepartmentID': [1, 2, 3, 1, 2, 3, 1, 2, 3, 1, 4, 4]})\n",
    "\n",
    "data2 = pd.DataFrame({'EmployeeID': [1, 3, 5, 6, 7, 8, 9, 11, 12, 13],\n",
    "                      'Salary': [50000, 70000, 90000, 95000, 105000, 115000, 125000, 140000, 145000, 110000],\n",
    "                      'Years of Experience': [3, 7, 12, 14, 16, 18, 20, 22, 9, 11],\n",
    "                      'DepartmentID': [1, 3, 2, 3, 1, 2, 3, 1, 4, 4],\n",
    "                      'Performance Score': [3, 4, 3, 4, 5, 5, 4, 5, 4, 4]})\n",
    "\n",
    "merged = pd.merge(data1, data2, on = ['EmployeeID', 'DepartmentID'], how = 'inner')\n",
    "\n",
    "avgsalary = merged.groupby('DepartmentID')['Salary'].mean()\n",
    "result = merged[merged['Salary'] > merged['DepartmentID'].map(avgsalary)]\n",
    "\n",
    "result[['DepartmentID', 'Name', 'Salary']]"
   ]
  },
  {
   "cell_type": "markdown",
   "id": "de17acb3",
   "metadata": {},
   "source": [
    "# Part II. Functional Programming"
   ]
  },
  {
   "cell_type": "markdown",
   "id": "578fada3",
   "metadata": {},
   "source": [
    "Q1. Define a function that doubles even numbers and leaves odd numbers as is and apply it to list [1,2,3,4,5,6,7,8]. You are allowed to use a single-line command. "
   ]
  },
  {
   "cell_type": "code",
   "execution_count": 13,
   "id": "41e752bb",
   "metadata": {},
   "outputs": [
    {
     "data": {
      "text/plain": [
       "0     1\n",
       "1     4\n",
       "2     3\n",
       "3     8\n",
       "4     5\n",
       "5    12\n",
       "6     7\n",
       "7    16\n",
       "dtype: int64"
      ]
     },
     "execution_count": 13,
     "metadata": {},
     "output_type": "execute_result"
    }
   ],
   "source": [
    "even = lambda x: x*2 if x%2 == 0 else x\n",
    "series = pd.Series([1,2,3,4,5,6,7,8]).apply(even)\n",
    "series"
   ]
  },
  {
   "cell_type": "markdown",
   "id": "ad54097d",
   "metadata": {},
   "source": [
    "Q2. Use reduce function to write a program that concatenates the strings in the list: ['The', 'quick', 'brown', 'fox', 'jumps', 'over', 'the', 'lazy', 'dog']"
   ]
  },
  {
   "cell_type": "code",
   "execution_count": 14,
   "id": "b487cf17",
   "metadata": {},
   "outputs": [
    {
     "name": "stdout",
     "output_type": "stream",
     "text": [
      "The quick brown fox jumps over the lazy dog\n"
     ]
    }
   ],
   "source": [
    "from functools import reduce\n",
    "strings = ['The', 'quick', 'brown', 'fox', 'jumps', 'over', 'the', 'lazy', 'dog']\n",
    "result = reduce(lambda x,y: x + ' ' + y, strings)\n",
    "print(result)"
   ]
  },
  {
   "cell_type": "markdown",
   "id": "2b10de31",
   "metadata": {},
   "source": [
    "Q3. Write a single-line command that involves reduce and map function to calculate the sum of the square of a list [1,2,3,4,5,6,7,8,9,10]"
   ]
  },
  {
   "cell_type": "code",
   "execution_count": 15,
   "id": "23adb629",
   "metadata": {},
   "outputs": [
    {
     "data": {
      "text/plain": [
       "385"
      ]
     },
     "execution_count": 15,
     "metadata": {},
     "output_type": "execute_result"
    }
   ],
   "source": [
    "square = reduce(lambda x,y: x + y, map(lambda x: x**2, [1,2,3,4,5,6,7,8,9,10]))\n",
    "square"
   ]
  },
  {
   "cell_type": "markdown",
   "id": "91b1adcd",
   "metadata": {},
   "source": [
    "Q4. Write a higher-order function \"compose\" that takes functions as input to calculate the composition of functions. Specifically, compose(f,g) should return a function that can calculate the composition f(g(x)). \n",
    "Use your \"compose\" function to calculate exp(abs(-3)). (exp denotes exponential function, abs denotes the absolute value function)"
   ]
  },
  {
   "cell_type": "code",
   "execution_count": 16,
   "id": "f2598afb",
   "metadata": {},
   "outputs": [
    {
     "data": {
      "text/plain": [
       "20.085536923187668"
      ]
     },
     "execution_count": 16,
     "metadata": {},
     "output_type": "execute_result"
    }
   ],
   "source": [
    "def compose(f,g):\n",
    "    return lambda x: f(g(x))\n",
    "\n",
    "import math\n",
    "f = math.exp\n",
    "g = abs\n",
    "h = compose(f,g)\n",
    "result = h(-3)\n",
    "result"
   ]
  },
  {
   "cell_type": "markdown",
   "id": "6af904ee",
   "metadata": {},
   "source": [
    "Q5. Write a single-line command to generate the value of f(g(x)) for a list [1,2,3,4,5], where f(x)=x**2, g(x)=x+1 (you can use the function defined in Q4)"
   ]
  },
  {
   "cell_type": "code",
   "execution_count": 17,
   "id": "12b252fb",
   "metadata": {},
   "outputs": [
    {
     "data": {
      "text/plain": [
       "[4, 9, 16, 25, 36]"
      ]
     },
     "execution_count": 17,
     "metadata": {},
     "output_type": "execute_result"
    }
   ],
   "source": [
    "result = list(map(lambda x: (x+1)**2, [1,2,3,4,5]))\n",
    "result"
   ]
  }
 ],
 "metadata": {
  "kernelspec": {
   "display_name": "Python 3 (ipykernel)",
   "language": "python",
   "name": "python3"
  },
  "language_info": {
   "codemirror_mode": {
    "name": "ipython",
    "version": 3
   },
   "file_extension": ".py",
   "mimetype": "text/x-python",
   "name": "python",
   "nbconvert_exporter": "python",
   "pygments_lexer": "ipython3",
   "version": "3.10.9"
  }
 },
 "nbformat": 4,
 "nbformat_minor": 5
}
